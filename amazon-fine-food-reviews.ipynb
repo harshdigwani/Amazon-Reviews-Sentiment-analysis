{
 "cells": [
  {
   "cell_type": "markdown",
   "metadata": {
    "colab_type": "text",
    "id": "Qcg2FaVEeEaU"
   },
   "source": [
    "# Amazon Fine Food Reviews Analysis\n",
    "(For Refrence Purpose)\n",
    "\n",
    "Data Source: https://www.kaggle.com/snap/amazon-fine-food-reviews <br>\n",
    "\n",
    "The Amazon Fine Food Reviews dataset consists of reviews of fine foods from Amazon.<br>\n",
    "\n",
    "Number of reviews: 568,454<br>\n",
    "Number of users: 256,059<br>\n",
    "Number of products: 74,258<br>\n",
    "Timespan: Oct 1999 - Oct 2012<br>\n",
    "Number of Attributes/Columns in data: 10 \n",
    "\n",
    "Attribute Information:\n",
    "\n",
    "1. Id\n",
    "2. ProductId - unique identifier for the product\n",
    "3. UserId - unqiue identifier for the user\n",
    "4. ProfileName\n",
    "5. HelpfulnessNumerator - number of users who found the review helpful\n",
    "6. HelpfulnessDenominator - number of users who indicated whether they found the review helpful or not\n",
    "7. Score - rating between 1 and 5\n",
    "8. Time - timestamp for the review\n",
    "9. Summary - brief summary of the review\n",
    "10. Text - text of the review\n",
    "\n",
    "\n",
    "#### Objective:\n",
    "Given a review, determine whether the review is positive (Rating of 4 or 5) or negative (rating of 1 or 2).\n",
    "\n",
    "<br>\n",
    "[Q] How to determine if a review is positive or negative?<br>\n",
    "<br> \n",
    "[Ans] We could use the Score/Rating. A rating of 4 or 5 could be cosnidered a positive review. A review of 1 or 2 could be considered negative. A review of 3 is nuetral and ignored. This is an approximate and proxy way of determining the polarity (positivity/negativity) of a review.\n",
    "\n",
    "\n"
   ]
  },
  {
   "cell_type": "markdown",
   "metadata": {
    "colab_type": "text",
    "id": "EX6t822GeEaX"
   },
   "source": [
    "## Loading the data\n",
    "\n",
    "The dataset is available in two forms\n",
    "1. .csv file\n",
    "2. SQLite Database\n",
    "\n",
    "In order to load the data, We have used the SQLITE dataset as it easier to query the data and visualise the data efficiently.\n",
    "<br> \n",
    "\n",
    "Here as we only want to get the global sentiment of the recommendations (positive or negative), we will purposefully ignore all Scores equal to 3. If the score id above 3, then the recommendation wil be set to \"positive\". Otherwise, it will be set to \"negative\"."
   ]
  },
  {
   "cell_type": "code",
   "execution_count": 0,
   "metadata": {
    "colab": {},
    "colab_type": "code",
    "id": "_KAYH0RreEaY"
   },
   "outputs": [],
   "source": [
    "import sqlite3\n",
    "import pandas as pd\n",
    "import numpy as np\n",
    "import matplotlib.pyplot as plt\n",
    "import seaborn as sb\n",
    "import string\n",
    "\n",
    "# Importing Natural Language Processing Tool-Kit for processing Text\n",
    "import nltk\n",
    "from nltk.stem.porter import PorterStemmer\n",
    "\n",
    "# Importing from sckit-learn\n",
    "from sklearn.feature_extraction.text import TfidfTransformer\n",
    "from sklearn.feature_extraction.text import TfidfVectorizer\n",
    "from sklearn.feature_extraction.text import CountVectorizer\n",
    "\n",
    "from sklearn import metrics\n",
    "from sklearn.metrics import confusion_matrix\n",
    "from sklearn.metrics import roc_curve,auc\n"
   ]
  },
  {
   "cell_type": "code",
   "execution_count": 3,
   "metadata": {
    "colab": {
     "base_uri": "https://localhost:8080/",
     "height": 683
    },
    "colab_type": "code",
    "id": "IAmccjnMeEah",
    "outputId": "893d2f4c-7b59-4f95-e2a4-cd534e4aba13"
   },
   "outputs": [
    {
     "data": {
      "text/html": [
       "<div>\n",
       "<style scoped>\n",
       "    .dataframe tbody tr th:only-of-type {\n",
       "        vertical-align: middle;\n",
       "    }\n",
       "\n",
       "    .dataframe tbody tr th {\n",
       "        vertical-align: top;\n",
       "    }\n",
       "\n",
       "    .dataframe thead th {\n",
       "        text-align: right;\n",
       "    }\n",
       "</style>\n",
       "<table border=\"1\" class=\"dataframe\">\n",
       "  <thead>\n",
       "    <tr style=\"text-align: right;\">\n",
       "      <th></th>\n",
       "      <th>Id</th>\n",
       "      <th>ProductId</th>\n",
       "      <th>UserId</th>\n",
       "      <th>ProfileName</th>\n",
       "      <th>HelpfulnessNumerator</th>\n",
       "      <th>HelpfulnessDenominator</th>\n",
       "      <th>Score</th>\n",
       "      <th>Time</th>\n",
       "      <th>Summary</th>\n",
       "      <th>Text</th>\n",
       "    </tr>\n",
       "  </thead>\n",
       "  <tbody>\n",
       "    <tr>\n",
       "      <th>0</th>\n",
       "      <td>1</td>\n",
       "      <td>B001E4KFG0</td>\n",
       "      <td>A3SGXH7AUHU8GW</td>\n",
       "      <td>delmartian</td>\n",
       "      <td>1</td>\n",
       "      <td>1</td>\n",
       "      <td>positive</td>\n",
       "      <td>1303862400</td>\n",
       "      <td>Good Quality Dog Food</td>\n",
       "      <td>I have bought several of the Vitality canned d...</td>\n",
       "    </tr>\n",
       "    <tr>\n",
       "      <th>1</th>\n",
       "      <td>2</td>\n",
       "      <td>B00813GRG4</td>\n",
       "      <td>A1D87F6ZCVE5NK</td>\n",
       "      <td>dll pa</td>\n",
       "      <td>0</td>\n",
       "      <td>0</td>\n",
       "      <td>negative</td>\n",
       "      <td>1346976000</td>\n",
       "      <td>Not as Advertised</td>\n",
       "      <td>Product arrived labeled as Jumbo Salted Peanut...</td>\n",
       "    </tr>\n",
       "    <tr>\n",
       "      <th>2</th>\n",
       "      <td>3</td>\n",
       "      <td>B000LQOCH0</td>\n",
       "      <td>ABXLMWJIXXAIN</td>\n",
       "      <td>Natalia Corres \"Natalia Corres\"</td>\n",
       "      <td>1</td>\n",
       "      <td>1</td>\n",
       "      <td>positive</td>\n",
       "      <td>1219017600</td>\n",
       "      <td>\"Delight\" says it all</td>\n",
       "      <td>This is a confection that has been around a fe...</td>\n",
       "    </tr>\n",
       "    <tr>\n",
       "      <th>3</th>\n",
       "      <td>4</td>\n",
       "      <td>B000UA0QIQ</td>\n",
       "      <td>A395BORC6FGVXV</td>\n",
       "      <td>Karl</td>\n",
       "      <td>3</td>\n",
       "      <td>3</td>\n",
       "      <td>negative</td>\n",
       "      <td>1307923200</td>\n",
       "      <td>Cough Medicine</td>\n",
       "      <td>If you are looking for the secret ingredient i...</td>\n",
       "    </tr>\n",
       "    <tr>\n",
       "      <th>4</th>\n",
       "      <td>5</td>\n",
       "      <td>B006K2ZZ7K</td>\n",
       "      <td>A1UQRSCLF8GW1T</td>\n",
       "      <td>Michael D. Bigham \"M. Wassir\"</td>\n",
       "      <td>0</td>\n",
       "      <td>0</td>\n",
       "      <td>positive</td>\n",
       "      <td>1350777600</td>\n",
       "      <td>Great taffy</td>\n",
       "      <td>Great taffy at a great price.  There was a wid...</td>\n",
       "    </tr>\n",
       "  </tbody>\n",
       "</table>\n",
       "</div>"
      ],
      "text/plain": [
       "   Id  ...                                               Text\n",
       "0   1  ...  I have bought several of the Vitality canned d...\n",
       "1   2  ...  Product arrived labeled as Jumbo Salted Peanut...\n",
       "2   3  ...  This is a confection that has been around a fe...\n",
       "3   4  ...  If you are looking for the secret ingredient i...\n",
       "4   5  ...  Great taffy at a great price.  There was a wid...\n",
       "\n",
       "[5 rows x 10 columns]"
      ]
     },
     "execution_count": 3,
     "metadata": {
      "tags": []
     },
     "output_type": "execute_result"
    }
   ],
   "source": [
    "# creating connection in sqlite to fetch data or perform operation on database\n",
    "con = sqlite3.connect('database.sqlite')\n",
    "\n",
    "#Filtering only +ve and -ve reviews ie not taking score = 3 and creating dataframe\n",
    "filtered_data = pd.read_sql_query('''\n",
    "SELECT * FROM Reviews WHERE Score !=3\n",
    "''',con)\n",
    "\n",
    "#given reviews <3 are considered to be -ve and >3 are +ve\n",
    "def partition(x):\n",
    "    if x<3:\n",
    "        return 'negative'\n",
    "    return 'positive'\n",
    "\n",
    "# changing column score with string positive and negative\n",
    "actualScore = filtered_data['Score']\n",
    "positiveNegative = actualScore.map(partition)\n",
    "filtered_data['Score'] = positiveNegative\n",
    "\n",
    "filtered_data.shape\n",
    "filtered_data.head()"
   ]
  },
  {
   "cell_type": "markdown",
   "metadata": {
    "colab_type": "text",
    "id": "pW1fWVtfeEav"
   },
   "source": [
    "# Exploratory Data Analytics\n",
    "## Data Cleaning : Deduplication\n",
    "#### 20 to 30 percentage time is spend in Data cleaning and Data Preprocessing\n",
    "It is observed (as shown in the table below) that the reviews data had many duplicate entries. Hence it was necessary to remove duplicates in order to get unbiased results for the analysis of the data.  Following is an example:\n"
   ]
  },
  {
   "cell_type": "code",
   "execution_count": 0,
   "metadata": {
    "colab": {},
    "colab_type": "code",
    "id": "angJG2A7eEaw"
   },
   "outputs": [],
   "source": [
    "# Sorting data according to ProductId in ascending order\n",
    "# Parameter:\n",
    "# (string:on which it is sort by , \n",
    "# axis: 0 means row-wise and 1 means column-wise,\n",
    "# ascending: True or False,\n",
    "# inplace : if True perform operation inplace ie. on original value,\n",
    "# kind=quicksort(default): types of sorting algo {MergeSort,QuickSort,HeapSort},applied when sorting single column,\n",
    "# na_position=last : first puts NaNs at the beginning, last puts NaNs at the end)\n",
    "\n",
    "sorted_data = filtered_data.sort_values('ProductId',axis=0,ascending=True, inplace=False, kind='quicksort', na_position='last')"
   ]
  },
  {
   "cell_type": "code",
   "execution_count": 149,
   "metadata": {
    "colab": {
     "base_uri": "https://localhost:8080/",
     "height": 51
    },
    "colab_type": "code",
    "id": "rzJ_cDAzeEa3",
    "outputId": "e2c7abe8-1a63-4ba9-b129-43ccc0ca7f71"
   },
   "outputs": [
    {
     "name": "stdout",
     "output_type": "stream",
     "text": [
      "Including Duplicates = (525814, 10)\n",
      "Removing Duplicates = (364173, 10)\n"
     ]
    }
   ],
   "source": [
    "# Deduplication of entries : removing duplicate entries\n",
    "# keep = 'first' means keepiing the 1st entry other will removed\n",
    "# Parameter:\n",
    "# (subset=all-columns : consider only cetrain columns for identifying duplicates ,\n",
    "# keep : 'first' keep 1st and remove remaining 'last' keep last only 'False' remove all duplicates ,\n",
    "# inplace = drop duplicate inplace or retturn copy)\n",
    "\n",
    "final = sorted_data.drop_duplicates(subset={'UserId','ProfileName','Time','Text'},keep='first',inplace=False)\n",
    "print(\"Including Duplicates =\",filtered_data.shape)\n",
    "print(\"Removing Duplicates =\",final.shape)\n",
    "# 30% of data was duplicate"
   ]
  },
  {
   "cell_type": "code",
   "execution_count": 150,
   "metadata": {
    "colab": {
     "base_uri": "https://localhost:8080/",
     "height": 335
    },
    "colab_type": "code",
    "id": "2TtFCylueEbH",
    "outputId": "15fb5673-55da-40cb-c8ef-b4d7c0c17462"
   },
   "outputs": [
    {
     "data": {
      "text/html": [
       "<div>\n",
       "<style scoped>\n",
       "    .dataframe tbody tr th:only-of-type {\n",
       "        vertical-align: middle;\n",
       "    }\n",
       "\n",
       "    .dataframe tbody tr th {\n",
       "        vertical-align: top;\n",
       "    }\n",
       "\n",
       "    .dataframe thead th {\n",
       "        text-align: right;\n",
       "    }\n",
       "</style>\n",
       "<table border=\"1\" class=\"dataframe\">\n",
       "  <thead>\n",
       "    <tr style=\"text-align: right;\">\n",
       "      <th></th>\n",
       "      <th>Id</th>\n",
       "      <th>ProductId</th>\n",
       "      <th>UserId</th>\n",
       "      <th>ProfileName</th>\n",
       "      <th>HelpfulnessNumerator</th>\n",
       "      <th>HelpfulnessDenominator</th>\n",
       "      <th>Score</th>\n",
       "      <th>Time</th>\n",
       "      <th>Summary</th>\n",
       "      <th>Text</th>\n",
       "    </tr>\n",
       "  </thead>\n",
       "  <tbody>\n",
       "    <tr>\n",
       "      <th>0</th>\n",
       "      <td>64422</td>\n",
       "      <td>B000MIDROQ</td>\n",
       "      <td>A161DK06JJMCYF</td>\n",
       "      <td>J. E. Stephens \"Jeanne\"</td>\n",
       "      <td>3</td>\n",
       "      <td>1</td>\n",
       "      <td>5</td>\n",
       "      <td>1224892800</td>\n",
       "      <td>Bought This for My Son at College</td>\n",
       "      <td>My son loves spaghetti so I didn't hesitate or...</td>\n",
       "    </tr>\n",
       "    <tr>\n",
       "      <th>1</th>\n",
       "      <td>44737</td>\n",
       "      <td>B001EQ55RW</td>\n",
       "      <td>A2V0I904FH7ABY</td>\n",
       "      <td>Ram</td>\n",
       "      <td>3</td>\n",
       "      <td>2</td>\n",
       "      <td>4</td>\n",
       "      <td>1212883200</td>\n",
       "      <td>Pure cocoa taste with crunchy almonds inside</td>\n",
       "      <td>It was almost a 'love at first bite' - the per...</td>\n",
       "    </tr>\n",
       "  </tbody>\n",
       "</table>\n",
       "</div>"
      ],
      "text/plain": [
       "      Id  ...                                               Text\n",
       "0  64422  ...  My son loves spaghetti so I didn't hesitate or...\n",
       "1  44737  ...  It was almost a 'love at first bite' - the per...\n",
       "\n",
       "[2 rows x 10 columns]"
      ]
     },
     "execution_count": 150,
     "metadata": {
      "tags": []
     },
     "output_type": "execute_result"
    }
   ],
   "source": [
    "display = pd.read_sql_query('''\n",
    "SELECT * FROM Reviews\n",
    "WHERE Score !=3 AND HelpfulnessNumerator > HelpfulnessDenominator\n",
    "ORDER BY ProductID\n",
    "''',con)\n",
    "\n",
    "display[:5:]"
   ]
  },
  {
   "cell_type": "code",
   "execution_count": 0,
   "metadata": {
    "colab": {},
    "colab_type": "code",
    "id": "EprXQj9EeEbV"
   },
   "outputs": [],
   "source": [
    "final = final[final.HelpfulnessNumerator<=final.HelpfulnessDenominator]"
   ]
  },
  {
   "cell_type": "markdown",
   "metadata": {
    "colab_type": "text",
    "id": "DkRdOvlEeEbe"
   },
   "source": [
    "### Its Important to know the classification distribution"
   ]
  },
  {
   "cell_type": "code",
   "execution_count": 152,
   "metadata": {
    "colab": {
     "base_uri": "https://localhost:8080/",
     "height": 85
    },
    "colab_type": "code",
    "id": "EYihxG5peEbg",
    "outputId": "b28219fc-177a-469c-ea1e-b27e5a26c9a9"
   },
   "outputs": [
    {
     "name": "stdout",
     "output_type": "stream",
     "text": [
      "(364171, 10)\n"
     ]
    },
    {
     "data": {
      "text/plain": [
       "positive    307061\n",
       "negative     57110\n",
       "Name: Score, dtype: int64"
      ]
     },
     "execution_count": 152,
     "metadata": {
      "tags": []
     },
     "output_type": "execute_result"
    }
   ],
   "source": [
    "print(final.shape)\n",
    "# It return the count of each value\n",
    "final['Score'].value_counts()"
   ]
  },
  {
   "cell_type": "markdown",
   "metadata": {
    "colab_type": "text",
    "id": "Ho3iVs9CeEbo"
   },
   "source": [
    "# Bag of Words (BoW)"
   ]
  },
  {
   "cell_type": "code",
   "execution_count": 0,
   "metadata": {
    "colab": {},
    "colab_type": "code",
    "id": "cqtktfGAeEbr"
   },
   "outputs": [],
   "source": [
    "count_vector = CountVectorizer() # in sckit-Learn\n",
    "# converting text into values or vectors\n",
    "final_counts = count_vector.fit_transform(final['Text'].values)"
   ]
  },
  {
   "cell_type": "code",
   "execution_count": 155,
   "metadata": {
    "colab": {
     "base_uri": "https://localhost:8080/",
     "height": 34
    },
    "colab_type": "code",
    "id": "McjyDCyGpRfl",
    "outputId": "868a5b2c-d01f-48b7-d0d9-26a5a5be8e25"
   },
   "outputs": [
    {
     "data": {
      "text/plain": [
       "scipy.sparse.csr.csr_matrix"
      ]
     },
     "execution_count": 155,
     "metadata": {
      "tags": []
     },
     "output_type": "execute_result"
    }
   ],
   "source": [
    "type(final_counts)"
   ]
  },
  {
   "cell_type": "markdown",
   "metadata": {
    "colab_type": "text",
    "id": "lo2WhvstrTjY"
   },
   "source": []
  },
  {
   "cell_type": "code",
   "execution_count": 156,
   "metadata": {
    "colab": {
     "base_uri": "https://localhost:8080/",
     "height": 34
    },
    "colab_type": "code",
    "id": "YLejrbqyeEcZ",
    "outputId": "20703851-3a19-4c8a-85b6-b809d7557623"
   },
   "outputs": [
    {
     "data": {
      "text/plain": [
       "(364171, 115281)"
      ]
     },
     "execution_count": 156,
     "metadata": {
      "tags": []
     },
     "output_type": "execute_result"
    }
   ],
   "source": [
    "final_counts.shape"
   ]
  },
  {
   "cell_type": "markdown",
   "metadata": {
    "colab_type": "text",
    "id": "rKaJGuHoeEci"
   },
   "source": [
    "# Text Preprocessing : Stemming, stop-word removal and Lematization\n",
    "    1.Using snowball stemming bcz more powerful than Porter Stemming"
   ]
  },
  {
   "cell_type": "code",
   "execution_count": 157,
   "metadata": {
    "colab": {
     "base_uri": "https://localhost:8080/",
     "height": 153
    },
    "colab_type": "code",
    "id": "BHckyPMKeEcm",
    "outputId": "4a24e074-92d7-46ac-dfff-562b1842d795"
   },
   "outputs": [
    {
     "name": "stdout",
     "output_type": "stream",
     "text": [
      "138706    this witty little book makes my son laugh at l...\n",
      "138688    I grew up reading these Sendak books, and watc...\n",
      "138689    This is a fun way for children to learn their ...\n",
      "138690    This is a great little book to read aloud- it ...\n",
      "138691    This is a book of poetry about the months of t...\n",
      "138693    A charming, rhyming book that describes the ci...\n",
      "138694    I set aside at least an hour each day to read ...\n",
      "Name: Text, dtype: object\n"
     ]
    }
   ],
   "source": [
    "print(final['Text'].head(7))"
   ]
  },
  {
   "cell_type": "code",
   "execution_count": 158,
   "metadata": {
    "colab": {
     "base_uri": "https://localhost:8080/",
     "height": 88
    },
    "colab_type": "code",
    "id": "2zSWuw-beEcz",
    "outputId": "fe560b24-e604-48de-f86a-5845f6b2ca2e"
   },
   "outputs": [
    {
     "name": "stdout",
     "output_type": "stream",
     "text": [
      "6\n",
      "I set aside at least an hour each day to read to my son (3 y/o). At this point, I consider myself a connoisseur of children's books and this is one of the best. Santa Clause put this under the tree. Since then, we've read it perpetually and he loves it.<br /><br />First, this book taught him the months of the year.<br /><br />Second, it's a pleasure to read. Well suited to 1.5 y/o old to 4+.<br /><br />Very few children's books are worth owning. Most should be borrowed from the library. This book, however, deserves a permanent spot on your shelf. Sendak's best.\n",
      "\n"
     ]
    }
   ],
   "source": [
    "# module re = regular expression\n",
    "import re\n",
    "# find sentenses containing HTML Tags\n",
    "i=0;\n",
    "for sent in final['Text'].values:\n",
    "    # using regular expression to search  html tags\n",
    "    if (len(re.findall('<.*?>',sent))):\n",
    "        print(i)\n",
    "        print(sent)\n",
    "        break\n",
    "    i+=1\n",
    "print()"
   ]
  },
  {
   "cell_type": "code",
   "execution_count": 159,
   "metadata": {
    "colab": {
     "base_uri": "https://localhost:8080/",
     "height": 122
    },
    "colab_type": "code",
    "id": "dUtaX82QeEc9",
    "outputId": "6b8e4eda-6138-4f6b-a00d-4a5768a202f3"
   },
   "outputs": [
    {
     "name": "stdout",
     "output_type": "stream",
     "text": [
      "Stopwords\n",
      "{'what', 'he', 'your', 'until', 'to', 'before', 'ourselves', 'the', 'be', 'themselves', 'being', 'off', 've', 'himself', \"should've\", 'd', 'once', 'about', 'again', 'needn', 'won', 'with', 'shouldn', 'of', 'these', 'only', 'own', 'same', 'hadn', 'isn', \"couldn't\", 'between', 'after', 'such', \"she's\", 'doesn', 'y', 'under', 'itself', 'have', 'does', \"mightn't\", 'am', 'against', 'hers', 'weren', 'shan', 'or', \"needn't\", 'both', 'an', 'how', 'now', 'ain', 'didn', \"weren't\", 'm', 'herself', \"that'll\", 'those', 'just', \"you've\", 'who', 'do', \"wasn't\", 'other', \"you're\", 'very', \"don't\", 'should', 'there', 'my', 'at', 'she', 'it', 'will', 'into', 'yourselves', 'yours', 'but', 'were', 'ma', 'is', 'had', 'because', 'its', 'above', 'that', \"aren't\", 'myself', 'further', 're', 'and', 'some', 'here', 'him', 's', 'doing', \"it's\", 'mightn', 'in', 'through', 'we', 'a', 'any', 'from', 'on', 'up', 'too', \"shouldn't\", 'was', 'his', 'having', 'yourself', 'while', 'when', 'more', \"didn't\", 'below', 'during', 'hasn', 'out', 'no', 'than', 'this', 'been', \"won't\", 'wasn', 'where', 'their', \"you'd\", 'they', 'whom', 'wouldn', 'which', 'few', 'by', 'll', 'as', \"wouldn't\", 'nor', 'her', 'why', \"doesn't\", 'has', 'over', 'them', 'o', 'not', \"shan't\", 'for', \"haven't\", 'aren', 'mustn', 'theirs', 'me', 'i', 'each', 'down', 'can', 'did', 't', 'couldn', \"hadn't\", \"mustn't\", \"isn't\", 'so', \"hasn't\", 'don', 'most', 'then', 'if', 'all', 'our', 'haven', \"you'll\", 'you', 'ours', 'are'}\n",
      "*******************\n",
      "tasti\n",
      "(364171, 10)\n"
     ]
    }
   ],
   "source": [
    "import string\n",
    "from nltk.corpus import stopwords\n",
    "from nltk.stem import PorterStemmer\n",
    "from nltk.stem import SnowballStemmer\n",
    "from nltk.stem.wordnet import WordNetLemmatizer\n",
    "\n",
    "stop = set(stopwords.words('english')) # set of stopwords\n",
    "sno = nltk.stem.SnowballStemmer('english') # initialize snowball stemmer\n",
    "\n",
    "def cleanhtml(sentence): # removes html tags in data\n",
    "    cleanr = re.compile('<.*?>')\n",
    "    cleantext = re.sub(cleanr,' ',sentence)\n",
    "    return cleantext\n",
    "def cleanpunc(sentence): #clean the word of any punchuation\n",
    "    cleaned = re.sub(r'[?|!|\\'|\"|#]',r'',sentence)\n",
    "    cleaned = re.sub(r'[.|,|)|(|\\|/]',r' ',cleaned)\n",
    "    return cleaned\n",
    "\n",
    "print(\"Stopwords\")\n",
    "print(stop)\n",
    "print(\"*******************\")\n",
    "print(sno.stem('tasty'))\n",
    "print(final.shape)"
   ]
  },
  {
   "cell_type": "code",
   "execution_count": 2,
   "metadata": {
    "colab": {
     "base_uri": "https://localhost:8080/",
     "height": 231
    },
    "colab_type": "code",
    "id": "AcR2VHWMeEdI",
    "outputId": "d50c7bd9-f128-4046-b270-4eb8503cd128"
   },
   "outputs": [
    {
     "name": "stdout",
     "output_type": "stream",
     "text": [
      "(364171, 10)\n",
      "*************************\n"
     ]
    }
   ],
   "source": [
    "# Creting list of text data after preprocessing\n",
    "# REDUCING DATA POINTS FOR COMPUTATION ON LOCAL MACHINE\n",
    "# final = final[:10000]\n",
    "print(final.shape)\n",
    "i=0\n",
    "str1=''\n",
    "final_string=[]\n",
    "s=''\n",
    "for sent in final['Text'].values:\n",
    "    filtered_sentence=[]\n",
    "    sent = cleanhtml(sent)\n",
    "    for w in sent.split():\n",
    "        for cleaned_words in cleanpunc(w).split():\n",
    "            if cleaned_words.isalpha() and len(cleaned_words)>2:\n",
    "                if cleaned_words.lower() not in stop:\n",
    "                    s = (sno.stem(cleaned_words.lower())).encode('utf8')\n",
    "                    filtered_sentence.append(s)\n",
    "                else:\n",
    "                  continue\n",
    "            else:\n",
    "              continue\n",
    "    # here b specifies that the string is 8-bits or 1 byte which is UTF-8\n",
    "    str1=b\" \".join(filtered_sentence)\n",
    "    final_string.append(str1)\n",
    "    i+=1\n",
    "print('*'*25)\n"
   ]
  },
  {
   "cell_type": "markdown",
   "metadata": {
    "colab_type": "text",
    "id": "OSsV8lmFeEdR"
   },
   "source": [
    "# Saving the data after computation into database \n",
    "## Due to computation limitation"
   ]
  },
  {
   "cell_type": "code",
   "execution_count": 166,
   "metadata": {
    "colab": {
     "base_uri": "https://localhost:8080/",
     "height": 119
    },
    "colab_type": "code",
    "id": "q34J8F2XeEdT",
    "outputId": "d5748b26-a01d-47b3-c7d5-2915db70787d"
   },
   "outputs": [
    {
     "name": "stdout",
     "output_type": "stream",
     "text": [
      "138706    b'witti littl book make son laugh loud recit c...\n",
      "138688    b'grew read sendak book watch realli rosi movi...\n",
      "138689    b'fun way children learn month year learn poem...\n",
      "138690    b'great littl book read nice rhythm well good ...\n",
      "138691    b'book poetri month year goe month cute littl ...\n",
      "Name: CleanedText, dtype: object\n"
     ]
    }
   ],
   "source": [
    "final['CleanedText'] = final_string # add a column of CleanedText \n",
    "print((final['CleanedText']).head())"
   ]
  },
  {
   "cell_type": "code",
   "execution_count": 0,
   "metadata": {
    "colab": {},
    "colab_type": "code",
    "id": "49CEFLJZeEdc"
   },
   "outputs": [],
   "source": [
    "# store final table into sqllite table for reusing do not need to performed computation again.\n",
    "conn = sqlite3.connect('final.sqlite')\n",
    "c = conn.cursor()\n",
    "conn.text_factory = str\n",
    "final.to_sql('Reviews',conn,schema = None, if_exists='replace')"
   ]
  },
  {
   "cell_type": "markdown",
   "metadata": {
    "colab_type": "text",
    "id": "5guMToCV31Zi"
   },
   "source": [
    "# Reusing the saved data"
   ]
  },
  {
   "cell_type": "code",
   "execution_count": 30,
   "metadata": {
    "colab": {
     "base_uri": "https://localhost:8080/",
     "height": 785
    },
    "colab_type": "code",
    "id": "rrR0G5D5303Y",
    "outputId": "c1939e20-5317-40f7-d6c6-28d714098cc0"
   },
   "outputs": [
    {
     "name": "stdout",
     "output_type": "stream",
     "text": [
      "(364171, 12)\n"
     ]
    },
    {
     "data": {
      "text/html": [
       "<div>\n",
       "<style scoped>\n",
       "    .dataframe tbody tr th:only-of-type {\n",
       "        vertical-align: middle;\n",
       "    }\n",
       "\n",
       "    .dataframe tbody tr th {\n",
       "        vertical-align: top;\n",
       "    }\n",
       "\n",
       "    .dataframe thead th {\n",
       "        text-align: right;\n",
       "    }\n",
       "</style>\n",
       "<table border=\"1\" class=\"dataframe\">\n",
       "  <thead>\n",
       "    <tr style=\"text-align: right;\">\n",
       "      <th></th>\n",
       "      <th>index</th>\n",
       "      <th>Id</th>\n",
       "      <th>ProductId</th>\n",
       "      <th>UserId</th>\n",
       "      <th>ProfileName</th>\n",
       "      <th>HelpfulnessNumerator</th>\n",
       "      <th>HelpfulnessDenominator</th>\n",
       "      <th>Score</th>\n",
       "      <th>Time</th>\n",
       "      <th>Summary</th>\n",
       "      <th>Text</th>\n",
       "      <th>CleanedText</th>\n",
       "    </tr>\n",
       "  </thead>\n",
       "  <tbody>\n",
       "    <tr>\n",
       "      <th>0</th>\n",
       "      <td>138706</td>\n",
       "      <td>150524</td>\n",
       "      <td>0006641040</td>\n",
       "      <td>ACITT7DI6IDDL</td>\n",
       "      <td>shari zychinski</td>\n",
       "      <td>0</td>\n",
       "      <td>0</td>\n",
       "      <td>positive</td>\n",
       "      <td>939340800</td>\n",
       "      <td>EVERY book is educational</td>\n",
       "      <td>this witty little book makes my son laugh at l...</td>\n",
       "      <td>b'witti littl book make son laugh loud recit c...</td>\n",
       "    </tr>\n",
       "    <tr>\n",
       "      <th>1</th>\n",
       "      <td>138688</td>\n",
       "      <td>150506</td>\n",
       "      <td>0006641040</td>\n",
       "      <td>A2IW4PEEKO2R0U</td>\n",
       "      <td>Tracy</td>\n",
       "      <td>1</td>\n",
       "      <td>1</td>\n",
       "      <td>positive</td>\n",
       "      <td>1194739200</td>\n",
       "      <td>Love the book, miss the hard cover version</td>\n",
       "      <td>I grew up reading these Sendak books, and watc...</td>\n",
       "      <td>b'grew read sendak book watch realli rosi movi...</td>\n",
       "    </tr>\n",
       "    <tr>\n",
       "      <th>2</th>\n",
       "      <td>138689</td>\n",
       "      <td>150507</td>\n",
       "      <td>0006641040</td>\n",
       "      <td>A1S4A3IQ2MU7V4</td>\n",
       "      <td>sally sue \"sally sue\"</td>\n",
       "      <td>1</td>\n",
       "      <td>1</td>\n",
       "      <td>positive</td>\n",
       "      <td>1191456000</td>\n",
       "      <td>chicken soup with rice months</td>\n",
       "      <td>This is a fun way for children to learn their ...</td>\n",
       "      <td>b'fun way children learn month year learn poem...</td>\n",
       "    </tr>\n",
       "    <tr>\n",
       "      <th>3</th>\n",
       "      <td>138690</td>\n",
       "      <td>150508</td>\n",
       "      <td>0006641040</td>\n",
       "      <td>AZGXZ2UUK6X</td>\n",
       "      <td>Catherine Hallberg \"(Kate)\"</td>\n",
       "      <td>1</td>\n",
       "      <td>1</td>\n",
       "      <td>positive</td>\n",
       "      <td>1076025600</td>\n",
       "      <td>a good swingy rhythm for reading aloud</td>\n",
       "      <td>This is a great little book to read aloud- it ...</td>\n",
       "      <td>b'great littl book read nice rhythm well good ...</td>\n",
       "    </tr>\n",
       "    <tr>\n",
       "      <th>4</th>\n",
       "      <td>138691</td>\n",
       "      <td>150509</td>\n",
       "      <td>0006641040</td>\n",
       "      <td>A3CMRKGE0P909G</td>\n",
       "      <td>Teresa</td>\n",
       "      <td>3</td>\n",
       "      <td>4</td>\n",
       "      <td>positive</td>\n",
       "      <td>1018396800</td>\n",
       "      <td>A great way to learn the months</td>\n",
       "      <td>This is a book of poetry about the months of t...</td>\n",
       "      <td>b'book poetri month year goe month cute littl ...</td>\n",
       "    </tr>\n",
       "  </tbody>\n",
       "</table>\n",
       "</div>"
      ],
      "text/plain": [
       "    index  ...                                        CleanedText\n",
       "0  138706  ...  b'witti littl book make son laugh loud recit c...\n",
       "1  138688  ...  b'grew read sendak book watch realli rosi movi...\n",
       "2  138689  ...  b'fun way children learn month year learn poem...\n",
       "3  138690  ...  b'great littl book read nice rhythm well good ...\n",
       "4  138691  ...  b'book poetri month year goe month cute littl ...\n",
       "\n",
       "[5 rows x 12 columns]"
      ]
     },
     "execution_count": 30,
     "metadata": {
      "tags": []
     },
     "output_type": "execute_result"
    }
   ],
   "source": [
    "# creating connection in sqlite to fetch data or perform operation on database\n",
    "con = sqlite3.connect('final.sqlite')\n",
    "\n",
    "#Filtering only +ve and -ve reviews ie not taking score = 3 and creating dataframe\n",
    "final = pd.read_sql_query('''\n",
    "SELECT * FROM Reviews\n",
    "''',con)\n",
    "\n",
    "print(final.shape)\n",
    "final.head()"
   ]
  },
  {
   "cell_type": "markdown",
   "metadata": {
    "colab_type": "text",
    "id": "-aUO5zvZeEdh"
   },
   "source": [
    "# Applying Bag of Words(BoW) on Cleaned Text column of table"
   ]
  },
  {
   "cell_type": "code",
   "execution_count": 31,
   "metadata": {
    "colab": {
     "base_uri": "https://localhost:8080/",
     "height": 187
    },
    "colab_type": "code",
    "id": "FKyhPzvetNPl",
    "outputId": "edc157ce-ea47-468e-f5a3-b1c586cdc182"
   },
   "outputs": [
    {
     "name": "stdout",
     "output_type": "stream",
     "text": [
      "0    b'witti littl book make son laugh loud recit c...\n",
      "1    b'grew read sendak book watch realli rosi movi...\n",
      "2    b'fun way children learn month year learn poem...\n",
      "3    b'great littl book read nice rhythm well good ...\n",
      "4    b'book poetri month year goe month cute littl ...\n",
      "Name: CleanedText, dtype: object\n",
      "Index(['index', 'Id', 'ProductId', 'UserId', 'ProfileName',\n",
      "       'HelpfulnessNumerator', 'HelpfulnessDenominator', 'Score', 'Time',\n",
      "       'Summary', 'Text', 'CleanedText'],\n",
      "      dtype='object')\n"
     ]
    }
   ],
   "source": [
    "print(final['CleanedText'].head())\n",
    "print(final.keys())"
   ]
  },
  {
   "cell_type": "code",
   "execution_count": 48,
   "metadata": {
    "colab": {
     "base_uri": "https://localhost:8080/",
     "height": 34
    },
    "colab_type": "code",
    "id": "nNOVSYWyeEdk",
    "outputId": "62ed202a-8b80-49f4-c31d-ebc45449d836"
   },
   "outputs": [
    {
     "name": "stdout",
     "output_type": "stream",
     "text": [
      "(1000, 4703)\n"
     ]
    }
   ],
   "source": [
    "count_vector = CountVectorizer() # in sckit-Learn\n",
    "# converting text into values or vectors\n",
    "\n",
    "final = final[:1000]\n",
    "\n",
    "final_counts = count_vector.fit_transform(final['CleanedText'].values)\n",
    "print(final_counts.shape)"
   ]
  },
  {
   "cell_type": "code",
   "execution_count": 36,
   "metadata": {
    "colab": {
     "base_uri": "https://localhost:8080/",
     "height": 51
    },
    "colab_type": "code",
    "id": "BJ7XteS-eEdr",
    "outputId": "e4311c56-794d-445b-e09f-5468f92948f1"
   },
   "outputs": [
    {
     "name": "stdout",
     "output_type": "stream",
     "text": [
      "<class 'scipy.sparse.csr.csr_matrix'>\n",
      "(1000, 4703)\n"
     ]
    }
   ],
   "source": [
    "print(type(final_counts))\n",
    "print(final_counts.shape)"
   ]
  },
  {
   "cell_type": "markdown",
   "metadata": {
    "colab_type": "text",
    "id": "cgKVI2b7eEdy"
   },
   "source": [
    "# Applying t-SNE algorithm to plot the vectors of cleaned text"
   ]
  },
  {
   "cell_type": "code",
   "execution_count": 49,
   "metadata": {
    "colab": {
     "base_uri": "https://localhost:8080/",
     "height": 530
    },
    "colab_type": "code",
    "id": "0TMMgvSieEdz",
    "outputId": "d0e0ae0b-ffe6-4fab-a35e-f9c0b182b5f7"
   },
   "outputs": [
    {
     "name": "stdout",
     "output_type": "stream",
     "text": [
      "(1000, 2)\n"
     ]
    },
    {
     "data": {
      "image/png": "[encoded data removed]",
      "text/plain": [
       "<Figure size 583.75x504 with 1 Axes>"
      ]
     },
     "metadata": {
      "tags": []
     },
     "output_type": "display_data"
    }
   ],
   "source": [
    "from sklearn.manifold import TSNE\n",
    "\n",
    "# configuring the parameters\n",
    "# the number of components = 2 \n",
    "# default perplexity = 30\n",
    "# default learning rate (epsilon) = 200\n",
    "# default Maximum number of steps or iteration = 1000\n",
    "# random_state is the no. which define that algo generate same results on multiple run bcs t-SNE is randomize algo\n",
    "model = TSNE(n_components=2, random_state = 0,perplexity=10,n_iter=5000)\n",
    "\n",
    "# generate the t-SNE data from above model used from sklearn and by passing data\n",
    "tsne_data = model.fit_transform(final_counts.toarray())\n",
    "\n",
    "print(tsne_data.shape)\n",
    "\n",
    "# creating a new data frame which has column of Score so that we can classfy tha data points\n",
    "tsne_data = np.vstack((tsne_data.T,final['Score'])).T\n",
    "tsne_df = pd.DataFrame(data=tsne_data,columns=(\"Dim_1\",\"Dim_2\",\"Score\"))\n",
    "\n",
    "# plotting the result of tsne\n",
    "sb.FacetGrid(tsne_df,hue=\"Score\",height=7).map(plt.scatter,\"Dim_1\",\"Dim_2\").add_legend()\n",
    "plt.show()"
   ]
  }
 ],
 "metadata": {
  "colab": {
   "collapsed_sections": [],
   "name": "amazon-fine-food-reviews.ipynb",
   "provenance": [],
   "toc_visible": true,
   "version": "0.3.2"
  },
  "kernelspec": {
   "display_name": "Python 3",
   "language": "python",
   "name": "python3"
  },
  "language_info": {
   "codemirror_mode": {
    "name": "ipython",
    "version": 3
   },
   "file_extension": ".py",
   "mimetype": "text/x-python",
   "name": "python",
   "nbconvert_exporter": "python",
   "pygments_lexer": "ipython3",
   "version": "3.7.1"
  }
 },
 "nbformat": 4,
 "nbformat_minor": 1
}
